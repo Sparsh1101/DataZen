{
 "cells": [
  {
   "cell_type": "markdown",
   "metadata": {
    "id": "i_paGd_yLbgH"
   },
   "source": [
    "# Data Analysis using K-Means Clustering\n",
    "\n",
    "\n",
    "\n",
    "\n"
   ]
  },
  {
   "cell_type": "code",
   "execution_count": 1,
   "metadata": {},
   "outputs": [],
   "source": [
    "# We are not going to use test data as there is no existing prediction variable so there is no need of test data"
   ]
  },
  {
   "cell_type": "markdown",
   "metadata": {
    "id": "nAuqPwTnLipr"
   },
   "source": [
    "## Importing the libraries"
   ]
  },
  {
   "cell_type": "code",
   "execution_count": 2,
   "metadata": {
    "id": "yUXGcC4KLmcL"
   },
   "outputs": [],
   "source": [
    "import numpy as np\n",
    "import matplotlib.pyplot as plt\n",
    "import pandas as pd"
   ]
  },
  {
   "cell_type": "markdown",
   "metadata": {
    "id": "5LciKOr8Lo5O"
   },
   "source": [
    "## Importing the dataset"
   ]
  },
  {
   "cell_type": "code",
   "execution_count": 3,
   "metadata": {
    "id": "9RlmPzZGLtGi"
   },
   "outputs": [],
   "source": [
    "dataset = pd.read_csv('tech_team_train.csv')"
   ]
  },
  {
   "cell_type": "markdown",
   "metadata": {
    "id": "m1zM0daEb3T5"
   },
   "source": [
    "## Data Cleaning"
   ]
  },
  {
   "cell_type": "code",
   "execution_count": 4,
   "metadata": {
    "id": "bB2LWjYTb3T6"
   },
   "outputs": [],
   "source": [
    "# We will use the total price instead of quantity and unit price for more consistent results\n",
    "dataset['TotalPrice'] = dataset['Quantity'] * dataset['UnitPrice']"
   ]
  },
  {
   "cell_type": "code",
   "execution_count": 5,
   "metadata": {
    "colab": {
     "base_uri": "https://localhost:8080/",
     "height": 402
    },
    "id": "_TpyG4pub3T7",
    "outputId": "a8c4cd83-33e2-44d4-f8a9-a87206cab4c9"
   },
   "outputs": [
    {
     "data": {
      "text/html": [
       "<div>\n",
       "<style scoped>\n",
       "    .dataframe tbody tr th:only-of-type {\n",
       "        vertical-align: middle;\n",
       "    }\n",
       "\n",
       "    .dataframe tbody tr th {\n",
       "        vertical-align: top;\n",
       "    }\n",
       "\n",
       "    .dataframe thead th {\n",
       "        text-align: right;\n",
       "    }\n",
       "</style>\n",
       "<table border=\"1\" class=\"dataframe\">\n",
       "  <thead>\n",
       "    <tr style=\"text-align: right;\">\n",
       "      <th></th>\n",
       "      <th>InvoiceNo</th>\n",
       "      <th>StockCode</th>\n",
       "      <th>Description</th>\n",
       "      <th>Quantity</th>\n",
       "      <th>InvoiceDate</th>\n",
       "      <th>UnitPrice</th>\n",
       "      <th>CustomerID</th>\n",
       "      <th>Country</th>\n",
       "      <th>TotalPrice</th>\n",
       "    </tr>\n",
       "  </thead>\n",
       "  <tbody>\n",
       "    <tr>\n",
       "      <th>0</th>\n",
       "      <td>6141</td>\n",
       "      <td>1583</td>\n",
       "      <td>144</td>\n",
       "      <td>3</td>\n",
       "      <td>06-05-2011 16:54</td>\n",
       "      <td>3.75</td>\n",
       "      <td>14056</td>\n",
       "      <td>35</td>\n",
       "      <td>11.25</td>\n",
       "    </tr>\n",
       "    <tr>\n",
       "      <th>1</th>\n",
       "      <td>6349</td>\n",
       "      <td>1300</td>\n",
       "      <td>3682</td>\n",
       "      <td>6</td>\n",
       "      <td>11-05-2011 07:35</td>\n",
       "      <td>1.95</td>\n",
       "      <td>13098</td>\n",
       "      <td>35</td>\n",
       "      <td>11.70</td>\n",
       "    </tr>\n",
       "    <tr>\n",
       "      <th>2</th>\n",
       "      <td>16783</td>\n",
       "      <td>2178</td>\n",
       "      <td>1939</td>\n",
       "      <td>4</td>\n",
       "      <td>20-11-2011 13:20</td>\n",
       "      <td>5.95</td>\n",
       "      <td>15044</td>\n",
       "      <td>35</td>\n",
       "      <td>23.80</td>\n",
       "    </tr>\n",
       "    <tr>\n",
       "      <th>3</th>\n",
       "      <td>16971</td>\n",
       "      <td>2115</td>\n",
       "      <td>2983</td>\n",
       "      <td>1</td>\n",
       "      <td>22-11-2011 12:07</td>\n",
       "      <td>0.83</td>\n",
       "      <td>15525</td>\n",
       "      <td>35</td>\n",
       "      <td>0.83</td>\n",
       "    </tr>\n",
       "    <tr>\n",
       "      <th>4</th>\n",
       "      <td>6080</td>\n",
       "      <td>1210</td>\n",
       "      <td>2886</td>\n",
       "      <td>12</td>\n",
       "      <td>06-05-2011 09:00</td>\n",
       "      <td>1.65</td>\n",
       "      <td>13952</td>\n",
       "      <td>35</td>\n",
       "      <td>19.80</td>\n",
       "    </tr>\n",
       "    <tr>\n",
       "      <th>...</th>\n",
       "      <td>...</td>\n",
       "      <td>...</td>\n",
       "      <td>...</td>\n",
       "      <td>...</td>\n",
       "      <td>...</td>\n",
       "      <td>...</td>\n",
       "      <td>...</td>\n",
       "      <td>...</td>\n",
       "      <td>...</td>\n",
       "    </tr>\n",
       "    <tr>\n",
       "      <th>199995</th>\n",
       "      <td>19930</td>\n",
       "      <td>170</td>\n",
       "      <td>1953</td>\n",
       "      <td>-1</td>\n",
       "      <td>12-05-2011 10:29</td>\n",
       "      <td>1.65</td>\n",
       "      <td>14606</td>\n",
       "      <td>35</td>\n",
       "      <td>-1.65</td>\n",
       "    </tr>\n",
       "    <tr>\n",
       "      <th>199996</th>\n",
       "      <td>9942</td>\n",
       "      <td>2075</td>\n",
       "      <td>3500</td>\n",
       "      <td>6</td>\n",
       "      <td>27-07-2011 14:21</td>\n",
       "      <td>2.08</td>\n",
       "      <td>12397</td>\n",
       "      <td>3</td>\n",
       "      <td>12.48</td>\n",
       "    </tr>\n",
       "    <tr>\n",
       "      <th>199997</th>\n",
       "      <td>15999</td>\n",
       "      <td>856</td>\n",
       "      <td>318</td>\n",
       "      <td>2</td>\n",
       "      <td>11-11-2011 10:49</td>\n",
       "      <td>3.75</td>\n",
       "      <td>17295</td>\n",
       "      <td>35</td>\n",
       "      <td>7.50</td>\n",
       "    </tr>\n",
       "    <tr>\n",
       "      <th>199998</th>\n",
       "      <td>3833</td>\n",
       "      <td>441</td>\n",
       "      <td>2424</td>\n",
       "      <td>1</td>\n",
       "      <td>11-03-2011 13:03</td>\n",
       "      <td>0.85</td>\n",
       "      <td>15311</td>\n",
       "      <td>35</td>\n",
       "      <td>0.85</td>\n",
       "    </tr>\n",
       "    <tr>\n",
       "      <th>199999</th>\n",
       "      <td>13431</td>\n",
       "      <td>930</td>\n",
       "      <td>1128</td>\n",
       "      <td>12</td>\n",
       "      <td>05-10-2011 15:52</td>\n",
       "      <td>0.42</td>\n",
       "      <td>12723</td>\n",
       "      <td>13</td>\n",
       "      <td>5.04</td>\n",
       "    </tr>\n",
       "  </tbody>\n",
       "</table>\n",
       "<p>200000 rows × 9 columns</p>\n",
       "</div>"
      ],
      "text/plain": [
       "        InvoiceNo  StockCode  Description  Quantity       InvoiceDate  \\\n",
       "0            6141       1583          144         3  06-05-2011 16:54   \n",
       "1            6349       1300         3682         6  11-05-2011 07:35   \n",
       "2           16783       2178         1939         4  20-11-2011 13:20   \n",
       "3           16971       2115         2983         1  22-11-2011 12:07   \n",
       "4            6080       1210         2886        12  06-05-2011 09:00   \n",
       "...           ...        ...          ...       ...               ...   \n",
       "199995      19930        170         1953        -1  12-05-2011 10:29   \n",
       "199996       9942       2075         3500         6  27-07-2011 14:21   \n",
       "199997      15999        856          318         2  11-11-2011 10:49   \n",
       "199998       3833        441         2424         1  11-03-2011 13:03   \n",
       "199999      13431        930         1128        12  05-10-2011 15:52   \n",
       "\n",
       "        UnitPrice  CustomerID  Country  TotalPrice  \n",
       "0            3.75       14056       35       11.25  \n",
       "1            1.95       13098       35       11.70  \n",
       "2            5.95       15044       35       23.80  \n",
       "3            0.83       15525       35        0.83  \n",
       "4            1.65       13952       35       19.80  \n",
       "...           ...         ...      ...         ...  \n",
       "199995       1.65       14606       35       -1.65  \n",
       "199996       2.08       12397        3       12.48  \n",
       "199997       3.75       17295       35        7.50  \n",
       "199998       0.85       15311       35        0.85  \n",
       "199999       0.42       12723       13        5.04  \n",
       "\n",
       "[200000 rows x 9 columns]"
      ]
     },
     "execution_count": 5,
     "metadata": {},
     "output_type": "execute_result"
    }
   ],
   "source": [
    "dataset"
   ]
  },
  {
   "cell_type": "code",
   "execution_count": 6,
   "metadata": {
    "id": "vYmv7MWZb3T9"
   },
   "outputs": [],
   "source": [
    "# As only very few values are outside this range, we will analyse in this range only for better results\n",
    "dataset = dataset[(dataset['TotalPrice'] >= -500) & (dataset['TotalPrice'] <= 500)]"
   ]
  },
  {
   "cell_type": "code",
   "execution_count": 7,
   "metadata": {
    "colab": {
     "base_uri": "https://localhost:8080/",
     "height": 402
    },
    "id": "O2Wd7cE9b3T-",
    "outputId": "557f21a9-3540-4e36-da1d-73fc66da976e"
   },
   "outputs": [
    {
     "data": {
      "text/html": [
       "<div>\n",
       "<style scoped>\n",
       "    .dataframe tbody tr th:only-of-type {\n",
       "        vertical-align: middle;\n",
       "    }\n",
       "\n",
       "    .dataframe tbody tr th {\n",
       "        vertical-align: top;\n",
       "    }\n",
       "\n",
       "    .dataframe thead th {\n",
       "        text-align: right;\n",
       "    }\n",
       "</style>\n",
       "<table border=\"1\" class=\"dataframe\">\n",
       "  <thead>\n",
       "    <tr style=\"text-align: right;\">\n",
       "      <th></th>\n",
       "      <th>InvoiceNo</th>\n",
       "      <th>StockCode</th>\n",
       "      <th>Description</th>\n",
       "      <th>Quantity</th>\n",
       "      <th>InvoiceDate</th>\n",
       "      <th>UnitPrice</th>\n",
       "      <th>CustomerID</th>\n",
       "      <th>Country</th>\n",
       "      <th>TotalPrice</th>\n",
       "    </tr>\n",
       "  </thead>\n",
       "  <tbody>\n",
       "    <tr>\n",
       "      <th>0</th>\n",
       "      <td>6141</td>\n",
       "      <td>1583</td>\n",
       "      <td>144</td>\n",
       "      <td>3</td>\n",
       "      <td>06-05-2011 16:54</td>\n",
       "      <td>3.75</td>\n",
       "      <td>14056</td>\n",
       "      <td>35</td>\n",
       "      <td>11.25</td>\n",
       "    </tr>\n",
       "    <tr>\n",
       "      <th>1</th>\n",
       "      <td>6349</td>\n",
       "      <td>1300</td>\n",
       "      <td>3682</td>\n",
       "      <td>6</td>\n",
       "      <td>11-05-2011 07:35</td>\n",
       "      <td>1.95</td>\n",
       "      <td>13098</td>\n",
       "      <td>35</td>\n",
       "      <td>11.70</td>\n",
       "    </tr>\n",
       "    <tr>\n",
       "      <th>2</th>\n",
       "      <td>16783</td>\n",
       "      <td>2178</td>\n",
       "      <td>1939</td>\n",
       "      <td>4</td>\n",
       "      <td>20-11-2011 13:20</td>\n",
       "      <td>5.95</td>\n",
       "      <td>15044</td>\n",
       "      <td>35</td>\n",
       "      <td>23.80</td>\n",
       "    </tr>\n",
       "    <tr>\n",
       "      <th>3</th>\n",
       "      <td>16971</td>\n",
       "      <td>2115</td>\n",
       "      <td>2983</td>\n",
       "      <td>1</td>\n",
       "      <td>22-11-2011 12:07</td>\n",
       "      <td>0.83</td>\n",
       "      <td>15525</td>\n",
       "      <td>35</td>\n",
       "      <td>0.83</td>\n",
       "    </tr>\n",
       "    <tr>\n",
       "      <th>4</th>\n",
       "      <td>6080</td>\n",
       "      <td>1210</td>\n",
       "      <td>2886</td>\n",
       "      <td>12</td>\n",
       "      <td>06-05-2011 09:00</td>\n",
       "      <td>1.65</td>\n",
       "      <td>13952</td>\n",
       "      <td>35</td>\n",
       "      <td>19.80</td>\n",
       "    </tr>\n",
       "    <tr>\n",
       "      <th>...</th>\n",
       "      <td>...</td>\n",
       "      <td>...</td>\n",
       "      <td>...</td>\n",
       "      <td>...</td>\n",
       "      <td>...</td>\n",
       "      <td>...</td>\n",
       "      <td>...</td>\n",
       "      <td>...</td>\n",
       "      <td>...</td>\n",
       "    </tr>\n",
       "    <tr>\n",
       "      <th>199995</th>\n",
       "      <td>19930</td>\n",
       "      <td>170</td>\n",
       "      <td>1953</td>\n",
       "      <td>-1</td>\n",
       "      <td>12-05-2011 10:29</td>\n",
       "      <td>1.65</td>\n",
       "      <td>14606</td>\n",
       "      <td>35</td>\n",
       "      <td>-1.65</td>\n",
       "    </tr>\n",
       "    <tr>\n",
       "      <th>199996</th>\n",
       "      <td>9942</td>\n",
       "      <td>2075</td>\n",
       "      <td>3500</td>\n",
       "      <td>6</td>\n",
       "      <td>27-07-2011 14:21</td>\n",
       "      <td>2.08</td>\n",
       "      <td>12397</td>\n",
       "      <td>3</td>\n",
       "      <td>12.48</td>\n",
       "    </tr>\n",
       "    <tr>\n",
       "      <th>199997</th>\n",
       "      <td>15999</td>\n",
       "      <td>856</td>\n",
       "      <td>318</td>\n",
       "      <td>2</td>\n",
       "      <td>11-11-2011 10:49</td>\n",
       "      <td>3.75</td>\n",
       "      <td>17295</td>\n",
       "      <td>35</td>\n",
       "      <td>7.50</td>\n",
       "    </tr>\n",
       "    <tr>\n",
       "      <th>199998</th>\n",
       "      <td>3833</td>\n",
       "      <td>441</td>\n",
       "      <td>2424</td>\n",
       "      <td>1</td>\n",
       "      <td>11-03-2011 13:03</td>\n",
       "      <td>0.85</td>\n",
       "      <td>15311</td>\n",
       "      <td>35</td>\n",
       "      <td>0.85</td>\n",
       "    </tr>\n",
       "    <tr>\n",
       "      <th>199999</th>\n",
       "      <td>13431</td>\n",
       "      <td>930</td>\n",
       "      <td>1128</td>\n",
       "      <td>12</td>\n",
       "      <td>05-10-2011 15:52</td>\n",
       "      <td>0.42</td>\n",
       "      <td>12723</td>\n",
       "      <td>13</td>\n",
       "      <td>5.04</td>\n",
       "    </tr>\n",
       "  </tbody>\n",
       "</table>\n",
       "<p>199512 rows × 9 columns</p>\n",
       "</div>"
      ],
      "text/plain": [
       "        InvoiceNo  StockCode  Description  Quantity       InvoiceDate  \\\n",
       "0            6141       1583          144         3  06-05-2011 16:54   \n",
       "1            6349       1300         3682         6  11-05-2011 07:35   \n",
       "2           16783       2178         1939         4  20-11-2011 13:20   \n",
       "3           16971       2115         2983         1  22-11-2011 12:07   \n",
       "4            6080       1210         2886        12  06-05-2011 09:00   \n",
       "...           ...        ...          ...       ...               ...   \n",
       "199995      19930        170         1953        -1  12-05-2011 10:29   \n",
       "199996       9942       2075         3500         6  27-07-2011 14:21   \n",
       "199997      15999        856          318         2  11-11-2011 10:49   \n",
       "199998       3833        441         2424         1  11-03-2011 13:03   \n",
       "199999      13431        930         1128        12  05-10-2011 15:52   \n",
       "\n",
       "        UnitPrice  CustomerID  Country  TotalPrice  \n",
       "0            3.75       14056       35       11.25  \n",
       "1            1.95       13098       35       11.70  \n",
       "2            5.95       15044       35       23.80  \n",
       "3            0.83       15525       35        0.83  \n",
       "4            1.65       13952       35       19.80  \n",
       "...           ...         ...      ...         ...  \n",
       "199995       1.65       14606       35       -1.65  \n",
       "199996       2.08       12397        3       12.48  \n",
       "199997       3.75       17295       35        7.50  \n",
       "199998       0.85       15311       35        0.85  \n",
       "199999       0.42       12723       13        5.04  \n",
       "\n",
       "[199512 rows x 9 columns]"
      ]
     },
     "execution_count": 7,
     "metadata": {},
     "output_type": "execute_result"
    }
   ],
   "source": [
    "dataset"
   ]
  },
  {
   "cell_type": "code",
   "execution_count": 8,
   "metadata": {
    "colab": {
     "base_uri": "https://localhost:8080/"
    },
    "id": "BkYTWStRjVBT",
    "outputId": "f7c50e48-e1dc-4010-d0c7-52212c6b1e39"
   },
   "outputs": [
    {
     "name": "stderr",
     "output_type": "stream",
     "text": [
      "<ipython-input-8-fa8f1bcbdec9>:2: SettingWithCopyWarning: \n",
      "A value is trying to be set on a copy of a slice from a DataFrame.\n",
      "Try using .loc[row_indexer,col_indexer] = value instead\n",
      "\n",
      "See the caveats in the documentation: https://pandas.pydata.org/pandas-docs/stable/user_guide/indexing.html#returning-a-view-versus-a-copy\n",
      "  dataset['InvoiceDate'] = pd.to_datetime(dataset['InvoiceDate'])\n"
     ]
    },
    {
     "data": {
      "text/plain": [
       "0        2011-06-05 16:54:00\n",
       "1        2011-11-05 07:35:00\n",
       "2        2011-11-20 13:20:00\n",
       "3        2011-11-22 12:07:00\n",
       "4        2011-06-05 09:00:00\n",
       "                 ...        \n",
       "199995   2011-12-05 10:29:00\n",
       "199996   2011-07-27 14:21:00\n",
       "199997   2011-11-11 10:49:00\n",
       "199998   2011-11-03 13:03:00\n",
       "199999   2011-05-10 15:52:00\n",
       "Name: InvoiceDate, Length: 199512, dtype: datetime64[ns]"
      ]
     },
     "execution_count": 8,
     "metadata": {},
     "output_type": "execute_result"
    }
   ],
   "source": [
    "# Converting InvoiceDate into Pandas DateTime Object\n",
    "dataset['InvoiceDate'] = pd.to_datetime(dataset['InvoiceDate'])\n",
    "dataset['InvoiceDate']"
   ]
  },
  {
   "cell_type": "code",
   "execution_count": 9,
   "metadata": {
    "colab": {
     "base_uri": "https://localhost:8080/"
    },
    "id": "NQY-2-Iob3T_",
    "outputId": "2907be45-cc90-483f-e1c5-415ac451d9b2"
   },
   "outputs": [
    {
     "name": "stdout",
     "output_type": "stream",
     "text": [
      "[[11.25]\n",
      " [11.7 ]\n",
      " [23.8 ]\n",
      " ...\n",
      " [ 7.5 ]\n",
      " [ 0.85]\n",
      " [ 5.04]]\n"
     ]
    }
   ],
   "source": [
    "# We require only 3 columns: unitPrice, quantity (combined as 1 here) and country(encoded in the next part)\n",
    "X = dataset.iloc[:, [8]].values\n",
    "print(X)"
   ]
  },
  {
   "cell_type": "markdown",
   "metadata": {
    "id": "ib0IA5_mb3UA"
   },
   "source": [
    "## Encoding categorical data"
   ]
  },
  {
   "cell_type": "code",
   "execution_count": 10,
   "metadata": {
    "colab": {
     "base_uri": "https://localhost:8080/"
    },
    "id": "aSLm8pOFb3UB",
    "outputId": "d123bd05-7975-45bf-b16c-4f71aed00f86"
   },
   "outputs": [
    {
     "name": "stdout",
     "output_type": "stream",
     "text": [
      "[[0. 0. 0. ... 0. 1. 0.]\n",
      " [0. 0. 0. ... 0. 1. 0.]\n",
      " [0. 0. 0. ... 0. 1. 0.]\n",
      " ...\n",
      " [0. 0. 0. ... 0. 1. 0.]\n",
      " [0. 0. 0. ... 0. 1. 0.]\n",
      " [0. 0. 0. ... 0. 0. 0.]]\n"
     ]
    }
   ],
   "source": [
    "# We will encode country data as it is categorical data and the numbers dont have any relation\n",
    "from sklearn import preprocessing\n",
    "\n",
    "enc_country = dataset.iloc[:, [7]]\n",
    "\n",
    "le = preprocessing.LabelEncoder()\n",
    "X_2 = enc_country.apply(le.fit_transform)\n",
    "\n",
    "enc = preprocessing.OneHotEncoder()\n",
    "enc.fit(X_2)\n",
    "onehotlabels = enc.transform(X_2).toarray()\n",
    "\n",
    "print(onehotlabels)"
   ]
  },
  {
   "cell_type": "code",
   "execution_count": 11,
   "metadata": {
    "colab": {
     "base_uri": "https://localhost:8080/"
    },
    "id": "Pkl70RL9b3UC",
    "outputId": "f6cd744b-c1b5-471f-ab87-2d65f8f0bef6"
   },
   "outputs": [
    {
     "name": "stdout",
     "output_type": "stream",
     "text": [
      "[[11.25  0.    0.   ...  0.    1.    0.  ]\n",
      " [11.7   0.    0.   ...  0.    1.    0.  ]\n",
      " [23.8   0.    0.   ...  0.    1.    0.  ]\n",
      " ...\n",
      " [ 7.5   0.    0.   ...  0.    1.    0.  ]\n",
      " [ 0.85  0.    0.   ...  0.    1.    0.  ]\n",
      " [ 5.04  0.    0.   ...  0.    0.    0.  ]]\n"
     ]
    }
   ],
   "source": [
    "# Total Price and encoded country array which will be used for analysis\n",
    "X = np.concatenate((X, onehotlabels), axis=1)\n",
    "print(X)"
   ]
  },
  {
   "cell_type": "markdown",
   "metadata": {
    "id": "nWC2EWp2Lx5G"
   },
   "source": [
    "## Using the elbow method to find the optimal number of clusters"
   ]
  },
  {
   "cell_type": "code",
   "execution_count": 12,
   "metadata": {
    "colab": {
     "base_uri": "https://localhost:8080/",
     "height": 295
    },
    "id": "UzdTYMJeb3UD",
    "outputId": "ae8377c8-f42b-43e5-f31d-0106992ba49c"
   },
   "outputs": [
    {
     "data": {
      "image/png": "[encoded data removed]",
      "text/plain": [
       "<Figure size 432x288 with 1 Axes>"
      ]
     },
     "metadata": {
      "needs_background": "light"
     },
     "output_type": "display_data"
    }
   ],
   "source": [
    "from sklearn.cluster import KMeans\n",
    "wcss = []\n",
    "for i in range(1, 11):\n",
    "    kmeans = KMeans(n_clusters = i, init = 'k-means++')\n",
    "    kmeans.fit(X)\n",
    "    wcss.append(kmeans.inertia_)\n",
    "plt.plot(range(1, 11), wcss)\n",
    "plt.title('The Elbow Method')\n",
    "plt.xlabel('Number of clusters')\n",
    "plt.ylabel('WCSS')\n",
    "plt.show()"
   ]
  },
  {
   "cell_type": "markdown",
   "metadata": {
    "id": "w3SIojHCeZAF"
   },
   "source": [
    "From the above graph, elbow can be seen forming at 3 or 4, so taking 4 and proceeding"
   ]
  },
  {
   "cell_type": "markdown",
   "metadata": {
    "id": "VgT0mANLL4Nz"
   },
   "source": [
    "## Training the K-Means model on the dataset"
   ]
  },
  {
   "cell_type": "code",
   "execution_count": 13,
   "metadata": {
    "id": "M8y3XxA0b3UG"
   },
   "outputs": [],
   "source": [
    "kmeans = KMeans(n_clusters = 4, init = 'k-means++')\n",
    "y_kmeans = kmeans.fit_predict(X)"
   ]
  },
  {
   "cell_type": "code",
   "execution_count": 14,
   "metadata": {
    "colab": {
     "base_uri": "https://localhost:8080/"
    },
    "id": "NJoULVFVb3UG",
    "outputId": "8b877e5a-e6cc-4572-b6a7-1570003a3598"
   },
   "outputs": [
    {
     "name": "stdout",
     "output_type": "stream",
     "text": [
      "[[11.25 35.  ]\n",
      " [11.7  35.  ]\n",
      " [23.8  35.  ]\n",
      " ...\n",
      " [ 7.5  35.  ]\n",
      " [ 0.85 35.  ]\n",
      " [ 5.04 13.  ]]\n"
     ]
    }
   ],
   "source": [
    "# We will use X_plot to visualise the results for better understanding\n",
    "X_plot = np.concatenate((X[:, :1], enc_country.values), axis = 1)\n",
    "print(X_plot)"
   ]
  },
  {
   "cell_type": "markdown",
   "metadata": {
    "id": "e7YrS1JAMFnm"
   },
   "source": [
    "## Visualising the clusters"
   ]
  },
  {
   "cell_type": "code",
   "execution_count": 15,
   "metadata": {
    "colab": {
     "base_uri": "https://localhost:8080/",
     "height": 458
    },
    "id": "d0ZYecccMHNx",
    "outputId": "241caae4-7373-4a6b-ebfc-92cc011a5a97"
   },
   "outputs": [
    {
     "data": {
      "image/png": "[encoded data removed]",
      "text/plain": [
       "<Figure size 720x504 with 1 Axes>"
      ]
     },
     "metadata": {
      "needs_background": "light"
     },
     "output_type": "display_data"
    }
   ],
   "source": [
    "plt.figure(figsize=(10, 7))\n",
    "plt.scatter(X_plot[y_kmeans == 0, 1], X_plot[y_kmeans == 0, 0], s = 40, c = 'red', label = 'Cluster 1')\n",
    "plt.scatter(X_plot[y_kmeans == 1, 1], X_plot[y_kmeans == 1, 0], s = 40, c = 'blue', label = 'Cluster 2')\n",
    "plt.scatter(X_plot[y_kmeans == 2, 1], X_plot[y_kmeans == 2, 0], s = 40, c = 'green', label = 'Cluster 3')\n",
    "plt.scatter(X_plot[y_kmeans == 3, 1], X_plot[y_kmeans == 3, 0], s = 40, c = 'cyan', label = 'Cluster 4')\n",
    "plt.title('Clusters of Invoices')\n",
    "plt.xlabel('Country')\n",
    "plt.ylabel('Total Price (UnitPrice*Quantity)')\n",
    "plt.legend()\n",
    "plt.show()"
   ]
  },
  {
   "cell_type": "markdown",
   "metadata": {
    "id": "f9M8Z_GO0ueq"
   },
   "source": [
    "## Inferences from above cluster:-\n",
    "\n",
    "1.   The red cluster represents expenditure whereas the other 3 clusters represent earnings. As we can see the red cluster is way less than the other 3 clusters combined so we can say there is good profit.\n",
    "2.   Cluster 4 (cyan) is the cluster with the highest earnings and countries like 0 and 35 have many points in cluster 4 which means these are better.\n",
    "3.  Even though country 35 has many points in cluster 4, it also has many points in cluster 1 which we would want to avoid, hence we can say country 0 is better as it has very few points in cluster 1.\n",
    "4.   Cluster 3 is the most concentrated which indicates most invoices have total price which is quite low.\n",
    "5.   We should try to target countries with points in Cluster 2 more so that they can become Cluster 4 countries some day.\n",
    "\n"
   ]
  },
  {
   "cell_type": "markdown",
   "metadata": {
    "id": "0in2dDbAgytq"
   },
   "source": [
    "## Additional Inferences:-"
   ]
  },
  {
   "cell_type": "code",
   "execution_count": 16,
   "metadata": {
    "colab": {
     "base_uri": "https://localhost:8080/"
    },
    "id": "WeuHtmiRgzj7",
    "outputId": "c055bd10-365e-4bc3-dd3d-70d4f7f04313"
   },
   "outputs": [
    {
     "name": "stderr",
     "output_type": "stream",
     "text": [
      "<ipython-input-16-2bb910995c4d>:1: SettingWithCopyWarning: \n",
      "A value is trying to be set on a copy of a slice from a DataFrame.\n",
      "Try using .loc[row_indexer,col_indexer] = value instead\n",
      "\n",
      "See the caveats in the documentation: https://pandas.pydata.org/pandas-docs/stable/user_guide/indexing.html#returning-a-view-versus-a-copy\n",
      "  dataset['InvoiceMonth'] = dataset['InvoiceDate'].dt.month\n"
     ]
    }
   ],
   "source": [
    "dataset['InvoiceMonth'] = dataset['InvoiceDate'].dt.month\n",
    "df = dataset.groupby('InvoiceMonth').TotalPrice.sum().to_frame()"
   ]
  },
  {
   "cell_type": "code",
   "execution_count": 17,
   "metadata": {
    "colab": {
     "base_uri": "https://localhost:8080/",
     "height": 332
    },
    "id": "-hVrqt3lhx7h",
    "outputId": "b5e7f60a-a314-41fa-f20b-1aabadfe47ba"
   },
   "outputs": [
    {
     "data": {
      "text/plain": [
       "Text(0, 0.5, 'Total Price')"
      ]
     },
     "execution_count": 17,
     "metadata": {},
     "output_type": "execute_result"
    },
    {
     "data": {
      "text/plain": [
       "<Figure size 1440x720 with 0 Axes>"
      ]
     },
     "metadata": {},
     "output_type": "display_data"
    },
    {
     "data": {
      "image/png": "[encoded data removed]",
      "text/plain": [
       "<Figure size 432x288 with 1 Axes>"
      ]
     },
     "metadata": {
      "needs_background": "light"
     },
     "output_type": "display_data"
    }
   ],
   "source": [
    "plt.figure(figsize = (20,10))\n",
    "dataset.groupby('InvoiceMonth').TotalPrice.sum().to_frame().plot(kind = 'bar', legend = None)\n",
    "plt.title('Total Sales')\n",
    "plt.xlabel('Month')\n",
    "plt.ylabel('Total Price')"
   ]
  },
  {
   "cell_type": "markdown",
   "metadata": {
    "id": "9fmZe-fny4Rk"
   },
   "source": [
    "## Inferences from the above graph:-\n",
    "\n",
    "1.   As we can see highest sales are in the month of November.\n",
    "2.   We can also say that most sales happen during the winter.\n",
    "3.   In the early months, the sales are low, so actions can be taken to entice more customers durin the summer and monsoon time.\n",
    "\n"
   ]
  }
 ],
 "metadata": {
  "colab": {
   "collapsed_sections": [],
   "name": "k_means_clustering.ipynb",
   "provenance": [],
   "toc_visible": true
  },
  "kernelspec": {
   "display_name": "Python 3",
   "language": "python",
   "name": "python3"
  },
  "language_info": {
   "codemirror_mode": {
    "name": "ipython",
    "version": 3
   },
   "file_extension": ".py",
   "mimetype": "text/x-python",
   "name": "python",
   "nbconvert_exporter": "python",
   "pygments_lexer": "ipython3",
   "version": "3.8.3"
  }
 },
 "nbformat": 4,
 "nbformat_minor": 1
}
